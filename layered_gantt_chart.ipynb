{
 "cells": [
  {
   "cell_type": "markdown",
   "metadata": {},
   "source": [
    "### Requirements\n",
    "\n",
    "**Gantt chart with projects and project-specific tasks; created through a JSON file.**\n",
    "\n",
    "Task attributes:\n",
    "- start and end dates\n",
    "- parent-project \n",
    "- description\n",
    "- milestones\n",
    "- status\n",
    "\n",
    "Visuals should include:\n",
    "- color-coding according to yearly quartile\n",
    "- month and quarter axis frequency \n",
    "- task description at the bottom \n",
    "- milestones\n",
    "\n"
   ]
  },
  {
   "cell_type": "markdown",
   "metadata": {},
   "source": [
    "----\n",
    "#### Input"
   ]
  },
  {
   "cell_type": "code",
   "execution_count": 1,
   "metadata": {},
   "outputs": [],
   "source": [
    "projects = {\n",
    "    '1' : {\n",
    "        '1': {\n",
    "            'start': '2024-05-01',\n",
    "            'end': '2024-06-15',\n",
    "            'description': 'Systematic review on methodologies for seizure forecasting: contact Epilepsia editor, redo forest plot, rewrite document, appendix tables, and submit with B-on agreement.',\n",
    "            'status': 'I',\n",
    "        },\n",
    "        '2': {\n",
    "            'start': '2024-05-01',\n",
    "            'end': '2024-06-30',\n",
    "            'description': 'Bioentrepreneurship project.',\n",
    "            'status': 'I',\n",
    "        },\n",
    "        '3': {\n",
    "            'start': '2024-05-01',\n",
    "            'end': '2024-06-15',\n",
    "            'description': 'Systematic review on methodologies for seizure forecasting: contact Epilepsia editor, redo forest plot, rewrite document, appendix tables, and submit with B-on agreement.',\n",
    "            'status': 'I',\n",
    "        },\n",
    "        '4': {\n",
    "            'start': '2024-07-01',\n",
    "            'end': '2024-07-15',\n",
    "            'description': 'Systematic review on methodologies for seizure forecasting: contact Epilepsia editor, redo forest plot, rewrite document, appendix tables, and submit with B-on agreement.',\n",
    "            'status': 'I',\n",
    "        },\n",
    "    },   \n",
    "    '2' : {\n",
    "        '1': {\n",
    "            'start': '2024-05-01',\n",
    "            'end': '2024-06-15',\n",
    "            'description': 'Systematic review on methodologies for seizure forecasting: contact Epilepsia editor, redo forest plot, rewrite document, appendix tables, and submit with B-on agreement.',\n",
    "            'status': 'I',\n",
    "        },\n",
    "        '2': {\n",
    "            'start': '2024-05-01',\n",
    "            'end': '2024-06-30',\n",
    "            'description': 'Bioentrepreneurship project.',\n",
    "            'status': 'I',\n",
    "        },\n",
    "        '3': {\n",
    "            'start': '2024-05-01',\n",
    "            'end': '2024-06-15',\n",
    "            'description': 'Systematic review on methodologies for seizure forecasting: contact Epilepsia editor, redo forest plot, rewrite document, appendix tables, and submit with B-on agreement.',\n",
    "            'status': 'I',\n",
    "        },\n",
    "        '4': {\n",
    "            'start': '2024-07-01',\n",
    "            'end': '2024-07-15',\n",
    "            'description': 'Systematic review on methodologies for seizure forecasting: contact Epilepsia editor, redo forest plot, rewrite document, appendix tables, and submit with B-on agreement.',\n",
    "            'status': 'I',\n",
    "        },\n",
    "        '5': {\n",
    "            'start': '2024-10-01',\n",
    "            'end': '2024-10-15',\n",
    "            'description': 'Systematic review on methodologies for seizure forecasting: contact Epilepsia editor, redo forest plot, rewrite document, appendix tables, and submit with B-on agreement.',\n",
    "            'status': 'I',\n",
    "        },\n",
    "    }   \n",
    "}"
   ]
  },
  {
   "cell_type": "code",
   "execution_count": 2,
   "metadata": {},
   "outputs": [],
   "source": [
    "color_palette = ['#5ADBFF', '#4EBDDC', '#5D9BCF', '#3D6997', '#675F94']"
   ]
  },
  {
   "cell_type": "markdown",
   "metadata": {},
   "source": [
    "----\n",
    "#### We need to transform the json into something like:\n",
    "\n",
    "| task | projects | start | end | status | milestone | description |\n",
    "| ---- | -------- | ----- | --- | ------ | --------- | ----------- | \n",
    "| task 1.1 | project 1 | 2024-05-01 | 2024-06-15 | I | ? | ? |"
   ]
  },
  {
   "cell_type": "code",
   "execution_count": 3,
   "metadata": {},
   "outputs": [
    {
     "data": {
      "text/html": [
       "<div>\n",
       "<style scoped>\n",
       "    .dataframe tbody tr th:only-of-type {\n",
       "        vertical-align: middle;\n",
       "    }\n",
       "\n",
       "    .dataframe tbody tr th {\n",
       "        vertical-align: top;\n",
       "    }\n",
       "\n",
       "    .dataframe thead th {\n",
       "        text-align: right;\n",
       "    }\n",
       "</style>\n",
       "<table border=\"1\" class=\"dataframe\">\n",
       "  <thead>\n",
       "    <tr style=\"text-align: right;\">\n",
       "      <th></th>\n",
       "      <th>task</th>\n",
       "      <th>project</th>\n",
       "      <th>start</th>\n",
       "      <th>end</th>\n",
       "      <th>description</th>\n",
       "      <th>status</th>\n",
       "      <th>quarter</th>\n",
       "      <th>first</th>\n",
       "      <th>last</th>\n",
       "      <th>quarter_color</th>\n",
       "    </tr>\n",
       "  </thead>\n",
       "  <tbody>\n",
       "    <tr>\n",
       "      <th>0</th>\n",
       "      <td>Project 1</td>\n",
       "      <td>None</td>\n",
       "      <td>None</td>\n",
       "      <td>None</td>\n",
       "      <td>None</td>\n",
       "      <td>None</td>\n",
       "      <td>None</td>\n",
       "      <td>2024-05-01</td>\n",
       "      <td>2024-10-15</td>\n",
       "      <td>NaN</td>\n",
       "    </tr>\n",
       "    <tr>\n",
       "      <th>1</th>\n",
       "      <td>Task 1.1</td>\n",
       "      <td>Project 1</td>\n",
       "      <td>2024-05-01</td>\n",
       "      <td>2024-06-15</td>\n",
       "      <td>Systematic review on methodologies for seizure...</td>\n",
       "      <td>I</td>\n",
       "      <td>2</td>\n",
       "      <td>2024-05-01</td>\n",
       "      <td>2024-10-15</td>\n",
       "      <td>#5ADBFF</td>\n",
       "    </tr>\n",
       "    <tr>\n",
       "      <th>2</th>\n",
       "      <td>Task 1.2</td>\n",
       "      <td>Project 1</td>\n",
       "      <td>2024-05-01</td>\n",
       "      <td>2024-06-30</td>\n",
       "      <td>Bioentrepreneurship project.</td>\n",
       "      <td>I</td>\n",
       "      <td>2</td>\n",
       "      <td>2024-05-01</td>\n",
       "      <td>2024-10-15</td>\n",
       "      <td>#5ADBFF</td>\n",
       "    </tr>\n",
       "    <tr>\n",
       "      <th>3</th>\n",
       "      <td>Task 1.3</td>\n",
       "      <td>Project 1</td>\n",
       "      <td>2024-05-01</td>\n",
       "      <td>2024-06-15</td>\n",
       "      <td>Systematic review on methodologies for seizure...</td>\n",
       "      <td>I</td>\n",
       "      <td>2</td>\n",
       "      <td>2024-05-01</td>\n",
       "      <td>2024-10-15</td>\n",
       "      <td>#5ADBFF</td>\n",
       "    </tr>\n",
       "    <tr>\n",
       "      <th>4</th>\n",
       "      <td>Task 1.4</td>\n",
       "      <td>Project 1</td>\n",
       "      <td>2024-07-01</td>\n",
       "      <td>2024-07-15</td>\n",
       "      <td>Systematic review on methodologies for seizure...</td>\n",
       "      <td>I</td>\n",
       "      <td>3</td>\n",
       "      <td>2024-05-01</td>\n",
       "      <td>2024-10-15</td>\n",
       "      <td>#4EBDDC</td>\n",
       "    </tr>\n",
       "    <tr>\n",
       "      <th>5</th>\n",
       "      <td>Project 2</td>\n",
       "      <td>None</td>\n",
       "      <td>None</td>\n",
       "      <td>None</td>\n",
       "      <td>None</td>\n",
       "      <td>None</td>\n",
       "      <td>None</td>\n",
       "      <td>2024-05-01</td>\n",
       "      <td>2024-10-15</td>\n",
       "      <td>NaN</td>\n",
       "    </tr>\n",
       "    <tr>\n",
       "      <th>6</th>\n",
       "      <td>Task 2.1</td>\n",
       "      <td>Project 2</td>\n",
       "      <td>2024-05-01</td>\n",
       "      <td>2024-06-15</td>\n",
       "      <td>Systematic review on methodologies for seizure...</td>\n",
       "      <td>I</td>\n",
       "      <td>2</td>\n",
       "      <td>2024-05-01</td>\n",
       "      <td>2024-10-15</td>\n",
       "      <td>#5ADBFF</td>\n",
       "    </tr>\n",
       "    <tr>\n",
       "      <th>7</th>\n",
       "      <td>Task 2.2</td>\n",
       "      <td>Project 2</td>\n",
       "      <td>2024-05-01</td>\n",
       "      <td>2024-06-30</td>\n",
       "      <td>Bioentrepreneurship project.</td>\n",
       "      <td>I</td>\n",
       "      <td>2</td>\n",
       "      <td>2024-05-01</td>\n",
       "      <td>2024-10-15</td>\n",
       "      <td>#5ADBFF</td>\n",
       "    </tr>\n",
       "    <tr>\n",
       "      <th>8</th>\n",
       "      <td>Task 2.3</td>\n",
       "      <td>Project 2</td>\n",
       "      <td>2024-05-01</td>\n",
       "      <td>2024-06-15</td>\n",
       "      <td>Systematic review on methodologies for seizure...</td>\n",
       "      <td>I</td>\n",
       "      <td>2</td>\n",
       "      <td>2024-05-01</td>\n",
       "      <td>2024-10-15</td>\n",
       "      <td>#5ADBFF</td>\n",
       "    </tr>\n",
       "    <tr>\n",
       "      <th>9</th>\n",
       "      <td>Task 2.4</td>\n",
       "      <td>Project 2</td>\n",
       "      <td>2024-07-01</td>\n",
       "      <td>2024-07-15</td>\n",
       "      <td>Systematic review on methodologies for seizure...</td>\n",
       "      <td>I</td>\n",
       "      <td>3</td>\n",
       "      <td>2024-05-01</td>\n",
       "      <td>2024-10-15</td>\n",
       "      <td>#4EBDDC</td>\n",
       "    </tr>\n",
       "    <tr>\n",
       "      <th>10</th>\n",
       "      <td>Task 2.5</td>\n",
       "      <td>Project 2</td>\n",
       "      <td>2024-10-01</td>\n",
       "      <td>2024-10-15</td>\n",
       "      <td>Systematic review on methodologies for seizure...</td>\n",
       "      <td>I</td>\n",
       "      <td>4</td>\n",
       "      <td>2024-05-01</td>\n",
       "      <td>2024-10-15</td>\n",
       "      <td>#5D9BCF</td>\n",
       "    </tr>\n",
       "  </tbody>\n",
       "</table>\n",
       "</div>"
      ],
      "text/plain": [
       "         task    project       start         end  \\\n",
       "0   Project 1       None        None        None   \n",
       "1    Task 1.1  Project 1  2024-05-01  2024-06-15   \n",
       "2    Task 1.2  Project 1  2024-05-01  2024-06-30   \n",
       "3    Task 1.3  Project 1  2024-05-01  2024-06-15   \n",
       "4    Task 1.4  Project 1  2024-07-01  2024-07-15   \n",
       "5   Project 2       None        None        None   \n",
       "6    Task 2.1  Project 2  2024-05-01  2024-06-15   \n",
       "7    Task 2.2  Project 2  2024-05-01  2024-06-30   \n",
       "8    Task 2.3  Project 2  2024-05-01  2024-06-15   \n",
       "9    Task 2.4  Project 2  2024-07-01  2024-07-15   \n",
       "10   Task 2.5  Project 2  2024-10-01  2024-10-15   \n",
       "\n",
       "                                          description status quarter  \\\n",
       "0                                                None   None    None   \n",
       "1   Systematic review on methodologies for seizure...      I       2   \n",
       "2                        Bioentrepreneurship project.      I       2   \n",
       "3   Systematic review on methodologies for seizure...      I       2   \n",
       "4   Systematic review on methodologies for seizure...      I       3   \n",
       "5                                                None   None    None   \n",
       "6   Systematic review on methodologies for seizure...      I       2   \n",
       "7                        Bioentrepreneurship project.      I       2   \n",
       "8   Systematic review on methodologies for seizure...      I       2   \n",
       "9   Systematic review on methodologies for seizure...      I       3   \n",
       "10  Systematic review on methodologies for seizure...      I       4   \n",
       "\n",
       "         first        last quarter_color  \n",
       "0   2024-05-01  2024-10-15           NaN  \n",
       "1   2024-05-01  2024-10-15       #5ADBFF  \n",
       "2   2024-05-01  2024-10-15       #5ADBFF  \n",
       "3   2024-05-01  2024-10-15       #5ADBFF  \n",
       "4   2024-05-01  2024-10-15       #4EBDDC  \n",
       "5   2024-05-01  2024-10-15           NaN  \n",
       "6   2024-05-01  2024-10-15       #5ADBFF  \n",
       "7   2024-05-01  2024-10-15       #5ADBFF  \n",
       "8   2024-05-01  2024-10-15       #5ADBFF  \n",
       "9   2024-05-01  2024-10-15       #4EBDDC  \n",
       "10  2024-05-01  2024-10-15       #5D9BCF  "
      ]
     },
     "execution_count": 3,
     "metadata": {},
     "output_type": "execute_result"
    }
   ],
   "source": [
    "from gantt_timeline_aux import GanttTimeline\n",
    "\n",
    "gantt_timeline = GanttTimeline(projects, color_palette)\n",
    "gantt_timeline.df"
   ]
  },
  {
   "cell_type": "code",
   "execution_count": 4,
   "metadata": {},
   "outputs": [
    {
     "data": {
      "application/vnd.plotly.v1+json": {
       "config": {
        "plotlyServerURL": "https://plot.ly"
       },
       "data": [
        {
         "alignmentgroup": "True",
         "base": [
          null,
          "2024-05-01",
          "2024-05-01",
          "2024-05-01",
          "2024-07-01",
          null,
          "2024-05-01",
          "2024-05-01",
          "2024-05-01",
          "2024-07-01",
          "2024-10-01"
         ],
         "customdata": [
          [
           null
          ],
          [
           "Systematic review on methodologies for seizure forecasting: contact Epilepsia editor, redo forest plot, rewrite document, appendix tables, and submit with B-on agreement."
          ],
          [
           "Bioentrepreneurship project."
          ],
          [
           "Systematic review on methodologies for seizure forecasting: contact Epilepsia editor, redo forest plot, rewrite document, appendix tables, and submit with B-on agreement."
          ],
          [
           "Systematic review on methodologies for seizure forecasting: contact Epilepsia editor, redo forest plot, rewrite document, appendix tables, and submit with B-on agreement."
          ],
          [
           null
          ],
          [
           "Systematic review on methodologies for seizure forecasting: contact Epilepsia editor, redo forest plot, rewrite document, appendix tables, and submit with B-on agreement."
          ],
          [
           "Bioentrepreneurship project."
          ],
          [
           "Systematic review on methodologies for seizure forecasting: contact Epilepsia editor, redo forest plot, rewrite document, appendix tables, and submit with B-on agreement."
          ],
          [
           "Systematic review on methodologies for seizure forecasting: contact Epilepsia editor, redo forest plot, rewrite document, appendix tables, and submit with B-on agreement."
          ],
          [
           "Systematic review on methodologies for seizure forecasting: contact Epilepsia editor, redo forest plot, rewrite document, appendix tables, and submit with B-on agreement."
          ]
         ],
         "hovertemplate": "%{customdata[0]}",
         "legendgroup": "",
         "marker": {
          "color": [
           null,
           "#5ADBFF",
           "#5ADBFF",
           "#5ADBFF",
           "#4EBDDC",
           null,
           "#5ADBFF",
           "#5ADBFF",
           "#5ADBFF",
           "#4EBDDC",
           "#5D9BCF"
          ],
          "pattern": {
           "shape": ""
          }
         },
         "name": "",
         "offsetgroup": "",
         "orientation": "h",
         "showlegend": false,
         "textposition": "auto",
         "type": "bar",
         "x": [
          null,
          3888000000,
          5184000000,
          3888000000,
          1209600000,
          null,
          3888000000,
          5184000000,
          3888000000,
          1209600000,
          1209600000
         ],
         "xaxis": "x",
         "y": [
          "Project 1",
          "Task 1.1",
          "Task 1.2",
          "Task 1.3",
          "Task 1.4",
          "Project 2",
          "Task 2.1",
          "Task 2.2",
          "Task 2.3",
          "Task 2.4",
          "Task 2.5"
         ],
         "yaxis": "y"
        }
       ],
       "layout": {
        "annotations": [
         {
          "font": {
           "color": "#0A4074"
          },
          "showarrow": false,
          "text": "April",
          "x": "2024-04-30",
          "y": 1.1631313131313132,
          "yref": "paper"
         },
         {
          "font": {
           "color": "#0A4074"
          },
          "showarrow": false,
          "text": "May",
          "x": "2024-05-16",
          "y": 1.1631313131313132,
          "yref": "paper"
         },
         {
          "font": {
           "color": "#0A4074"
          },
          "showarrow": false,
          "text": "June",
          "x": "2024-06-15",
          "y": 1.1631313131313132,
          "yref": "paper"
         },
         {
          "font": {
           "color": "#0A4074"
          },
          "showarrow": false,
          "text": "July",
          "x": "2024-07-16",
          "y": 1.1631313131313132,
          "yref": "paper"
         },
         {
          "font": {
           "color": "#0A4074"
          },
          "showarrow": false,
          "text": "August",
          "x": "2024-08-16",
          "y": 1.1631313131313132,
          "yref": "paper"
         },
         {
          "font": {
           "color": "#0A4074"
          },
          "showarrow": false,
          "text": "September",
          "x": "2024-09-15",
          "y": 1.1631313131313132,
          "yref": "paper"
         },
         {
          "font": {
           "color": "#0A4074"
          },
          "showarrow": false,
          "text": "October",
          "x": "2024-10-08",
          "y": 1.1631313131313132,
          "yref": "paper"
         },
         {
          "font": {
           "color": "#0A4074"
          },
          "showarrow": false,
          "text": "November",
          "x": "2024-10-23",
          "y": 1.1631313131313132,
          "yref": "paper"
         },
         {
          "font": {
           "color": "#0A4074"
          },
          "showarrow": false,
          "text": "December",
          "x": "2024-11-07",
          "y": 1.1631313131313132,
          "yref": "paper"
         },
         {
          "font": {
           "color": "#FFFFFF"
          },
          "showarrow": false,
          "text": "Q2",
          "x": "2024-05-31",
          "y": 1.2662626262626264,
          "yref": "paper"
         },
         {
          "font": {
           "color": "#FFFFFF"
          },
          "showarrow": false,
          "text": "Q3",
          "x": "2024-08-15",
          "y": 1.2662626262626264,
          "yref": "paper"
         },
         {
          "font": {
           "color": "#FFFFFF"
          },
          "showarrow": false,
          "text": "Q4",
          "x": "2024-10-08",
          "y": 1.2662626262626264,
          "yref": "paper"
         }
        ],
        "barmode": "overlay",
        "coloraxis": {
         "showscale": false
        },
        "legend": {
         "tracegroupgap": 0
        },
        "margin": {
         "b": 100,
         "l": 50,
         "pad": 4,
         "r": 50,
         "t": 100
        },
        "plot_bgcolor": "white",
        "shapes": [
         {
          "fillcolor": "rgba(244, 244, 244, 1)",
          "line": {
           "color": "rgba(244, 244, 244, 1)"
          },
          "opacity": 1,
          "type": "rect",
          "x0": "2024-04-01",
          "x1": "2024-04-30",
          "xref": "x",
          "y0": 1.1,
          "y1": 1.1631313131313132,
          "yref": "paper"
         },
         {
          "fillcolor": "rgba(244, 244, 244, 1)",
          "line": {
           "color": "rgba(244, 244, 244, 1)"
          },
          "opacity": 1,
          "type": "rect",
          "x0": "2024-05-01",
          "x1": "2024-05-31",
          "xref": "x",
          "y0": 1.1,
          "y1": 1.1631313131313132,
          "yref": "paper"
         },
         {
          "fillcolor": "rgba(244, 244, 244, 1)",
          "line": {
           "color": "rgba(244, 244, 244, 1)"
          },
          "opacity": 1,
          "type": "rect",
          "x0": "2024-06-01",
          "x1": "2024-06-30",
          "xref": "x",
          "y0": 1.1,
          "y1": 1.1631313131313132,
          "yref": "paper"
         },
         {
          "fillcolor": "rgba(244, 244, 244, 1)",
          "line": {
           "color": "rgba(244, 244, 244, 1)"
          },
          "opacity": 1,
          "type": "rect",
          "x0": "2024-07-01",
          "x1": "2024-07-31",
          "xref": "x",
          "y0": 1.1,
          "y1": 1.1631313131313132,
          "yref": "paper"
         },
         {
          "fillcolor": "rgba(244, 244, 244, 1)",
          "line": {
           "color": "rgba(244, 244, 244, 1)"
          },
          "opacity": 1,
          "type": "rect",
          "x0": "2024-08-01",
          "x1": "2024-08-31",
          "xref": "x",
          "y0": 1.1,
          "y1": 1.1631313131313132,
          "yref": "paper"
         },
         {
          "fillcolor": "rgba(244, 244, 244, 1)",
          "line": {
           "color": "rgba(244, 244, 244, 1)"
          },
          "opacity": 1,
          "type": "rect",
          "x0": "2024-09-01",
          "x1": "2024-09-30",
          "xref": "x",
          "y0": 1.1,
          "y1": 1.1631313131313132,
          "yref": "paper"
         },
         {
          "fillcolor": "rgba(244, 244, 244, 1)",
          "line": {
           "color": "rgba(244, 244, 244, 1)"
          },
          "opacity": 1,
          "type": "rect",
          "x0": "2024-10-01",
          "x1": "2024-10-31",
          "xref": "x",
          "y0": 1.1,
          "y1": 1.1631313131313132,
          "yref": "paper"
         },
         {
          "fillcolor": "rgba(244, 244, 244, 1)",
          "line": {
           "color": "rgba(244, 244, 244, 1)"
          },
          "opacity": 1,
          "type": "rect",
          "x0": "2024-11-01",
          "x1": "2024-11-30",
          "xref": "x",
          "y0": 1.1,
          "y1": 1.1631313131313132,
          "yref": "paper"
         },
         {
          "fillcolor": "rgba(244, 244, 244, 1)",
          "line": {
           "color": "rgba(244, 244, 244, 1)"
          },
          "opacity": 1,
          "type": "rect",
          "x0": "2024-12-01",
          "x1": "2024-12-31",
          "xref": "x",
          "y0": 1.1,
          "y1": 1.1631313131313132,
          "yref": "paper"
         },
         {
          "fillcolor": "rgba(90, 219, 255, 1)",
          "line": {
           "color": "rgba(90, 219, 255, 1)"
          },
          "opacity": 1,
          "type": "rect",
          "x0": "2024-04-01",
          "x1": "2024-06-30",
          "xref": "x",
          "y0": 1.2031313131313133,
          "y1": 1.2662626262626264,
          "yref": "paper"
         },
         {
          "fillcolor": "rgba(78, 189, 220, 1)",
          "line": {
           "color": "rgba(78, 189, 220, 1)"
          },
          "opacity": 1,
          "type": "rect",
          "x0": "2024-07-01",
          "x1": "2024-09-30",
          "xref": "x",
          "y0": 1.2031313131313133,
          "y1": 1.2662626262626264,
          "yref": "paper"
         },
         {
          "fillcolor": "rgba(93, 155, 207, 1)",
          "line": {
           "color": "rgba(93, 155, 207, 1)"
          },
          "opacity": 1,
          "type": "rect",
          "x0": "2024-10-01",
          "x1": "2024-12-31",
          "xref": "x",
          "y0": 1.2031313131313133,
          "y1": 1.2662626262626264,
          "yref": "paper"
         }
        ],
        "showlegend": false,
        "template": {
         "data": {
          "bar": [
           {
            "error_x": {
             "color": "#2a3f5f"
            },
            "error_y": {
             "color": "#2a3f5f"
            },
            "marker": {
             "line": {
              "color": "#E5ECF6",
              "width": 0.5
             },
             "pattern": {
              "fillmode": "overlay",
              "size": 10,
              "solidity": 0.2
             }
            },
            "type": "bar"
           }
          ],
          "barpolar": [
           {
            "marker": {
             "line": {
              "color": "#E5ECF6",
              "width": 0.5
             },
             "pattern": {
              "fillmode": "overlay",
              "size": 10,
              "solidity": 0.2
             }
            },
            "type": "barpolar"
           }
          ],
          "carpet": [
           {
            "aaxis": {
             "endlinecolor": "#2a3f5f",
             "gridcolor": "white",
             "linecolor": "white",
             "minorgridcolor": "white",
             "startlinecolor": "#2a3f5f"
            },
            "baxis": {
             "endlinecolor": "#2a3f5f",
             "gridcolor": "white",
             "linecolor": "white",
             "minorgridcolor": "white",
             "startlinecolor": "#2a3f5f"
            },
            "type": "carpet"
           }
          ],
          "choropleth": [
           {
            "colorbar": {
             "outlinewidth": 0,
             "ticks": ""
            },
            "type": "choropleth"
           }
          ],
          "contour": [
           {
            "colorbar": {
             "outlinewidth": 0,
             "ticks": ""
            },
            "colorscale": [
             [
              0,
              "#0d0887"
             ],
             [
              0.1111111111111111,
              "#46039f"
             ],
             [
              0.2222222222222222,
              "#7201a8"
             ],
             [
              0.3333333333333333,
              "#9c179e"
             ],
             [
              0.4444444444444444,
              "#bd3786"
             ],
             [
              0.5555555555555556,
              "#d8576b"
             ],
             [
              0.6666666666666666,
              "#ed7953"
             ],
             [
              0.7777777777777778,
              "#fb9f3a"
             ],
             [
              0.8888888888888888,
              "#fdca26"
             ],
             [
              1,
              "#f0f921"
             ]
            ],
            "type": "contour"
           }
          ],
          "contourcarpet": [
           {
            "colorbar": {
             "outlinewidth": 0,
             "ticks": ""
            },
            "type": "contourcarpet"
           }
          ],
          "heatmap": [
           {
            "colorbar": {
             "outlinewidth": 0,
             "ticks": ""
            },
            "colorscale": [
             [
              0,
              "#0d0887"
             ],
             [
              0.1111111111111111,
              "#46039f"
             ],
             [
              0.2222222222222222,
              "#7201a8"
             ],
             [
              0.3333333333333333,
              "#9c179e"
             ],
             [
              0.4444444444444444,
              "#bd3786"
             ],
             [
              0.5555555555555556,
              "#d8576b"
             ],
             [
              0.6666666666666666,
              "#ed7953"
             ],
             [
              0.7777777777777778,
              "#fb9f3a"
             ],
             [
              0.8888888888888888,
              "#fdca26"
             ],
             [
              1,
              "#f0f921"
             ]
            ],
            "type": "heatmap"
           }
          ],
          "heatmapgl": [
           {
            "colorbar": {
             "outlinewidth": 0,
             "ticks": ""
            },
            "colorscale": [
             [
              0,
              "#0d0887"
             ],
             [
              0.1111111111111111,
              "#46039f"
             ],
             [
              0.2222222222222222,
              "#7201a8"
             ],
             [
              0.3333333333333333,
              "#9c179e"
             ],
             [
              0.4444444444444444,
              "#bd3786"
             ],
             [
              0.5555555555555556,
              "#d8576b"
             ],
             [
              0.6666666666666666,
              "#ed7953"
             ],
             [
              0.7777777777777778,
              "#fb9f3a"
             ],
             [
              0.8888888888888888,
              "#fdca26"
             ],
             [
              1,
              "#f0f921"
             ]
            ],
            "type": "heatmapgl"
           }
          ],
          "histogram": [
           {
            "marker": {
             "pattern": {
              "fillmode": "overlay",
              "size": 10,
              "solidity": 0.2
             }
            },
            "type": "histogram"
           }
          ],
          "histogram2d": [
           {
            "colorbar": {
             "outlinewidth": 0,
             "ticks": ""
            },
            "colorscale": [
             [
              0,
              "#0d0887"
             ],
             [
              0.1111111111111111,
              "#46039f"
             ],
             [
              0.2222222222222222,
              "#7201a8"
             ],
             [
              0.3333333333333333,
              "#9c179e"
             ],
             [
              0.4444444444444444,
              "#bd3786"
             ],
             [
              0.5555555555555556,
              "#d8576b"
             ],
             [
              0.6666666666666666,
              "#ed7953"
             ],
             [
              0.7777777777777778,
              "#fb9f3a"
             ],
             [
              0.8888888888888888,
              "#fdca26"
             ],
             [
              1,
              "#f0f921"
             ]
            ],
            "type": "histogram2d"
           }
          ],
          "histogram2dcontour": [
           {
            "colorbar": {
             "outlinewidth": 0,
             "ticks": ""
            },
            "colorscale": [
             [
              0,
              "#0d0887"
             ],
             [
              0.1111111111111111,
              "#46039f"
             ],
             [
              0.2222222222222222,
              "#7201a8"
             ],
             [
              0.3333333333333333,
              "#9c179e"
             ],
             [
              0.4444444444444444,
              "#bd3786"
             ],
             [
              0.5555555555555556,
              "#d8576b"
             ],
             [
              0.6666666666666666,
              "#ed7953"
             ],
             [
              0.7777777777777778,
              "#fb9f3a"
             ],
             [
              0.8888888888888888,
              "#fdca26"
             ],
             [
              1,
              "#f0f921"
             ]
            ],
            "type": "histogram2dcontour"
           }
          ],
          "mesh3d": [
           {
            "colorbar": {
             "outlinewidth": 0,
             "ticks": ""
            },
            "type": "mesh3d"
           }
          ],
          "parcoords": [
           {
            "line": {
             "colorbar": {
              "outlinewidth": 0,
              "ticks": ""
             }
            },
            "type": "parcoords"
           }
          ],
          "pie": [
           {
            "automargin": true,
            "type": "pie"
           }
          ],
          "scatter": [
           {
            "fillpattern": {
             "fillmode": "overlay",
             "size": 10,
             "solidity": 0.2
            },
            "type": "scatter"
           }
          ],
          "scatter3d": [
           {
            "line": {
             "colorbar": {
              "outlinewidth": 0,
              "ticks": ""
             }
            },
            "marker": {
             "colorbar": {
              "outlinewidth": 0,
              "ticks": ""
             }
            },
            "type": "scatter3d"
           }
          ],
          "scattercarpet": [
           {
            "marker": {
             "colorbar": {
              "outlinewidth": 0,
              "ticks": ""
             }
            },
            "type": "scattercarpet"
           }
          ],
          "scattergeo": [
           {
            "marker": {
             "colorbar": {
              "outlinewidth": 0,
              "ticks": ""
             }
            },
            "type": "scattergeo"
           }
          ],
          "scattergl": [
           {
            "marker": {
             "colorbar": {
              "outlinewidth": 0,
              "ticks": ""
             }
            },
            "type": "scattergl"
           }
          ],
          "scattermapbox": [
           {
            "marker": {
             "colorbar": {
              "outlinewidth": 0,
              "ticks": ""
             }
            },
            "type": "scattermapbox"
           }
          ],
          "scatterpolar": [
           {
            "marker": {
             "colorbar": {
              "outlinewidth": 0,
              "ticks": ""
             }
            },
            "type": "scatterpolar"
           }
          ],
          "scatterpolargl": [
           {
            "marker": {
             "colorbar": {
              "outlinewidth": 0,
              "ticks": ""
             }
            },
            "type": "scatterpolargl"
           }
          ],
          "scatterternary": [
           {
            "marker": {
             "colorbar": {
              "outlinewidth": 0,
              "ticks": ""
             }
            },
            "type": "scatterternary"
           }
          ],
          "surface": [
           {
            "colorbar": {
             "outlinewidth": 0,
             "ticks": ""
            },
            "colorscale": [
             [
              0,
              "#0d0887"
             ],
             [
              0.1111111111111111,
              "#46039f"
             ],
             [
              0.2222222222222222,
              "#7201a8"
             ],
             [
              0.3333333333333333,
              "#9c179e"
             ],
             [
              0.4444444444444444,
              "#bd3786"
             ],
             [
              0.5555555555555556,
              "#d8576b"
             ],
             [
              0.6666666666666666,
              "#ed7953"
             ],
             [
              0.7777777777777778,
              "#fb9f3a"
             ],
             [
              0.8888888888888888,
              "#fdca26"
             ],
             [
              1,
              "#f0f921"
             ]
            ],
            "type": "surface"
           }
          ],
          "table": [
           {
            "cells": {
             "fill": {
              "color": "#EBF0F8"
             },
             "line": {
              "color": "white"
             }
            },
            "header": {
             "fill": {
              "color": "#C8D4E3"
             },
             "line": {
              "color": "white"
             }
            },
            "type": "table"
           }
          ]
         },
         "layout": {
          "annotationdefaults": {
           "arrowcolor": "#2a3f5f",
           "arrowhead": 0,
           "arrowwidth": 1
          },
          "autotypenumbers": "strict",
          "coloraxis": {
           "colorbar": {
            "outlinewidth": 0,
            "ticks": ""
           }
          },
          "colorscale": {
           "diverging": [
            [
             0,
             "#8e0152"
            ],
            [
             0.1,
             "#c51b7d"
            ],
            [
             0.2,
             "#de77ae"
            ],
            [
             0.3,
             "#f1b6da"
            ],
            [
             0.4,
             "#fde0ef"
            ],
            [
             0.5,
             "#f7f7f7"
            ],
            [
             0.6,
             "#e6f5d0"
            ],
            [
             0.7,
             "#b8e186"
            ],
            [
             0.8,
             "#7fbc41"
            ],
            [
             0.9,
             "#4d9221"
            ],
            [
             1,
             "#276419"
            ]
           ],
           "sequential": [
            [
             0,
             "#0d0887"
            ],
            [
             0.1111111111111111,
             "#46039f"
            ],
            [
             0.2222222222222222,
             "#7201a8"
            ],
            [
             0.3333333333333333,
             "#9c179e"
            ],
            [
             0.4444444444444444,
             "#bd3786"
            ],
            [
             0.5555555555555556,
             "#d8576b"
            ],
            [
             0.6666666666666666,
             "#ed7953"
            ],
            [
             0.7777777777777778,
             "#fb9f3a"
            ],
            [
             0.8888888888888888,
             "#fdca26"
            ],
            [
             1,
             "#f0f921"
            ]
           ],
           "sequentialminus": [
            [
             0,
             "#0d0887"
            ],
            [
             0.1111111111111111,
             "#46039f"
            ],
            [
             0.2222222222222222,
             "#7201a8"
            ],
            [
             0.3333333333333333,
             "#9c179e"
            ],
            [
             0.4444444444444444,
             "#bd3786"
            ],
            [
             0.5555555555555556,
             "#d8576b"
            ],
            [
             0.6666666666666666,
             "#ed7953"
            ],
            [
             0.7777777777777778,
             "#fb9f3a"
            ],
            [
             0.8888888888888888,
             "#fdca26"
            ],
            [
             1,
             "#f0f921"
            ]
           ]
          },
          "colorway": [
           "#636efa",
           "#EF553B",
           "#00cc96",
           "#ab63fa",
           "#FFA15A",
           "#19d3f3",
           "#FF6692",
           "#B6E880",
           "#FF97FF",
           "#FECB52"
          ],
          "font": {
           "color": "#2a3f5f"
          },
          "geo": {
           "bgcolor": "white",
           "lakecolor": "white",
           "landcolor": "#E5ECF6",
           "showlakes": true,
           "showland": true,
           "subunitcolor": "white"
          },
          "hoverlabel": {
           "align": "left"
          },
          "hovermode": "closest",
          "mapbox": {
           "style": "light"
          },
          "paper_bgcolor": "white",
          "plot_bgcolor": "#E5ECF6",
          "polar": {
           "angularaxis": {
            "gridcolor": "white",
            "linecolor": "white",
            "ticks": ""
           },
           "bgcolor": "#E5ECF6",
           "radialaxis": {
            "gridcolor": "white",
            "linecolor": "white",
            "ticks": ""
           }
          },
          "scene": {
           "xaxis": {
            "backgroundcolor": "#E5ECF6",
            "gridcolor": "white",
            "gridwidth": 2,
            "linecolor": "white",
            "showbackground": true,
            "ticks": "",
            "zerolinecolor": "white"
           },
           "yaxis": {
            "backgroundcolor": "#E5ECF6",
            "gridcolor": "white",
            "gridwidth": 2,
            "linecolor": "white",
            "showbackground": true,
            "ticks": "",
            "zerolinecolor": "white"
           },
           "zaxis": {
            "backgroundcolor": "#E5ECF6",
            "gridcolor": "white",
            "gridwidth": 2,
            "linecolor": "white",
            "showbackground": true,
            "ticks": "",
            "zerolinecolor": "white"
           }
          },
          "shapedefaults": {
           "line": {
            "color": "#2a3f5f"
           }
          },
          "ternary": {
           "aaxis": {
            "gridcolor": "white",
            "linecolor": "white",
            "ticks": ""
           },
           "baxis": {
            "gridcolor": "white",
            "linecolor": "white",
            "ticks": ""
           },
           "bgcolor": "#E5ECF6",
           "caxis": {
            "gridcolor": "white",
            "linecolor": "white",
            "ticks": ""
           }
          },
          "title": {
           "x": 0.05
          },
          "xaxis": {
           "automargin": true,
           "gridcolor": "white",
           "linecolor": "white",
           "ticks": "",
           "title": {
            "standoff": 15
           },
           "zerolinecolor": "white",
           "zerolinewidth": 2
          },
          "yaxis": {
           "automargin": true,
           "gridcolor": "white",
           "linecolor": "white",
           "ticks": "",
           "title": {
            "standoff": 15
           },
           "zerolinecolor": "white",
           "zerolinewidth": 2
          }
         }
        },
        "xaxis": {
         "anchor": "y",
         "domain": [
          0,
          1
         ],
         "range": [
          "2024-05-01",
          "2024-10-15"
         ],
         "showticklabels": false,
         "type": "date",
         "visible": false
        },
        "yaxis": {
         "anchor": "x",
         "categoryarray": [
          "Task 2.5",
          "Task 2.4",
          "Task 2.3",
          "Task 2.2",
          "Task 2.1",
          "Project 2",
          "Task 1.4",
          "Task 1.3",
          "Task 1.2",
          "Task 1.1",
          "Project 1"
         ],
         "categoryorder": "array",
         "domain": [
          0,
          1
         ],
         "showticklabels": true,
         "title": {
          "text": ""
         },
         "type": "category",
         "visible": true
        }
       }
      }
     },
     "metadata": {},
     "output_type": "display_data"
    }
   ],
   "source": [
    "fig = gantt_timeline.get_fig_timeline(quarters=True, months=True)\n",
    "fig.show()\n"
   ]
  },
  {
   "cell_type": "code",
   "execution_count": null,
   "metadata": {},
   "outputs": [],
   "source": []
  }
 ],
 "metadata": {
  "kernelspec": {
   "display_name": ".venv",
   "language": "python",
   "name": "python3"
  },
  "language_info": {
   "codemirror_mode": {
    "name": "ipython",
    "version": 3
   },
   "file_extension": ".py",
   "mimetype": "text/x-python",
   "name": "python",
   "nbconvert_exporter": "python",
   "pygments_lexer": "ipython3",
   "version": "3.11.5"
  }
 },
 "nbformat": 4,
 "nbformat_minor": 2
}
