{
 "cells": [
  {
   "cell_type": "markdown",
   "metadata": {},
   "source": [
    "### Requirements\n",
    "\n",
    "**Gantt chart with projects and project-specific tasks; created through a JSON file.**\n",
    "\n",
    "Task attributes:\n",
    "- start and end dates\n",
    "- parent-project \n",
    "- description\n",
    "- milestones\n",
    "- status\n",
    "\n",
    "Visuals should include:\n",
    "- color-coding according to yearly quartile\n",
    "- month and quarter axis frequency \n",
    "- task description at the bottom \n",
    "- milestones\n",
    "\n"
   ]
  },
  {
   "cell_type": "markdown",
   "metadata": {},
   "source": [
    "----\n",
    "#### Input"
   ]
  },
  {
   "cell_type": "code",
   "execution_count": 1,
   "metadata": {},
   "outputs": [],
   "source": [
    "projects = {\n",
    "    '1' : {\n",
    "        '1': {\n",
    "            'start': '2024-05-01',\n",
    "            'end': '2024-06-15',\n",
    "            'description': 'Systematic review on methodologies for seizure forecasting: contact Epilepsia editor, redo forest plot, rewrite document, appendix tables, and submit with B-on agreement.',\n",
    "            'status': 'I',\n",
    "        },\n",
    "        '2': {\n",
    "            'start': '2024-05-01',\n",
    "            'end': '2024-06-30',\n",
    "            'description': 'Bioentrepreneurship project.',\n",
    "            'status': 'I',\n",
    "        },\n",
    "        '3': {\n",
    "            'start': '2024-05-01',\n",
    "            'end': '2024-06-15',\n",
    "            'description': 'Systematic review on methodologies for seizure forecasting: contact Epilepsia editor, redo forest plot, rewrite document, appendix tables, and submit with B-on agreement.',\n",
    "            'status': 'I',\n",
    "        },\n",
    "        '4': {\n",
    "            'start': '2024-07-01',\n",
    "            'end': '2024-07-15',\n",
    "            'description': 'Systematic review on methodologies for seizure forecasting: contact Epilepsia editor, redo forest plot, rewrite document, appendix tables, and submit with B-on agreement.',\n",
    "            'status': 'I',\n",
    "        },\n",
    "    }   \n",
    "}"
   ]
  },
  {
   "cell_type": "markdown",
   "metadata": {},
   "source": [
    "----\n",
    "#### We need to transform the json into something like:\n",
    "\n",
    "| task | projects | start | end | status | milestone | description |\n",
    "| ---- | -------- | ----- | --- | ------ | --------- | ----------- | \n",
    "| task 1.1 | project 1 | 2024-05-01 | 2024-06-15 | I | ? | ? |"
   ]
  },
  {
   "cell_type": "code",
   "execution_count": 2,
   "metadata": {},
   "outputs": [
    {
     "data": {
      "text/html": [
       "<div>\n",
       "<style scoped>\n",
       "    .dataframe tbody tr th:only-of-type {\n",
       "        vertical-align: middle;\n",
       "    }\n",
       "\n",
       "    .dataframe tbody tr th {\n",
       "        vertical-align: top;\n",
       "    }\n",
       "\n",
       "    .dataframe thead th {\n",
       "        text-align: right;\n",
       "    }\n",
       "</style>\n",
       "<table border=\"1\" class=\"dataframe\">\n",
       "  <thead>\n",
       "    <tr style=\"text-align: right;\">\n",
       "      <th></th>\n",
       "      <th>task</th>\n",
       "      <th>project</th>\n",
       "      <th>start</th>\n",
       "      <th>end</th>\n",
       "      <th>description</th>\n",
       "      <th>status</th>\n",
       "      <th>quarter</th>\n",
       "      <th>quarter_color</th>\n",
       "      <th>first</th>\n",
       "      <th>last</th>\n",
       "    </tr>\n",
       "  </thead>\n",
       "  <tbody>\n",
       "    <tr>\n",
       "      <th>0</th>\n",
       "      <td>Task 1.1</td>\n",
       "      <td>Project 1</td>\n",
       "      <td>2024-05-01</td>\n",
       "      <td>2024-06-15</td>\n",
       "      <td>Systematic review on methodologies for seizure...</td>\n",
       "      <td>I</td>\n",
       "      <td>2</td>\n",
       "      <td>#4EBDDC</td>\n",
       "      <td>2024-05-01</td>\n",
       "      <td>2024-07-15</td>\n",
       "    </tr>\n",
       "    <tr>\n",
       "      <th>1</th>\n",
       "      <td>Task 1.2</td>\n",
       "      <td>Project 1</td>\n",
       "      <td>2024-05-01</td>\n",
       "      <td>2024-06-30</td>\n",
       "      <td>Bioentrepreneurship project.</td>\n",
       "      <td>I</td>\n",
       "      <td>2</td>\n",
       "      <td>#4EBDDC</td>\n",
       "      <td>2024-05-01</td>\n",
       "      <td>2024-07-15</td>\n",
       "    </tr>\n",
       "    <tr>\n",
       "      <th>2</th>\n",
       "      <td>Task 1.3</td>\n",
       "      <td>Project 1</td>\n",
       "      <td>2024-05-01</td>\n",
       "      <td>2024-06-15</td>\n",
       "      <td>Systematic review on methodologies for seizure...</td>\n",
       "      <td>I</td>\n",
       "      <td>2</td>\n",
       "      <td>#4EBDDC</td>\n",
       "      <td>2024-05-01</td>\n",
       "      <td>2024-07-15</td>\n",
       "    </tr>\n",
       "    <tr>\n",
       "      <th>3</th>\n",
       "      <td>Task 1.4</td>\n",
       "      <td>Project 1</td>\n",
       "      <td>2024-07-01</td>\n",
       "      <td>2024-07-15</td>\n",
       "      <td>Systematic review on methodologies for seizure...</td>\n",
       "      <td>I</td>\n",
       "      <td>3</td>\n",
       "      <td>#5D9BCF</td>\n",
       "      <td>2024-05-01</td>\n",
       "      <td>2024-07-15</td>\n",
       "    </tr>\n",
       "  </tbody>\n",
       "</table>\n",
       "</div>"
      ],
      "text/plain": [
       "       task    project       start         end  \\\n",
       "0  Task 1.1  Project 1  2024-05-01  2024-06-15   \n",
       "1  Task 1.2  Project 1  2024-05-01  2024-06-30   \n",
       "2  Task 1.3  Project 1  2024-05-01  2024-06-15   \n",
       "3  Task 1.4  Project 1  2024-07-01  2024-07-15   \n",
       "\n",
       "                                         description status  quarter  \\\n",
       "0  Systematic review on methodologies for seizure...      I        2   \n",
       "1                       Bioentrepreneurship project.      I        2   \n",
       "2  Systematic review on methodologies for seizure...      I        2   \n",
       "3  Systematic review on methodologies for seizure...      I        3   \n",
       "\n",
       "  quarter_color       first        last  \n",
       "0       #4EBDDC  2024-05-01  2024-07-15  \n",
       "1       #4EBDDC  2024-05-01  2024-07-15  \n",
       "2       #4EBDDC  2024-05-01  2024-07-15  \n",
       "3       #5D9BCF  2024-05-01  2024-07-15  "
      ]
     },
     "execution_count": 2,
     "metadata": {},
     "output_type": "execute_result"
    }
   ],
   "source": [
    "import pandas as pd\n",
    "from constants import QUARTER_COLOR_CODE\n",
    "from gantt_timeline_aux import GanttTimeline\n",
    "\n",
    "gantt_timeline = GanttTimeline(projects)\n",
    "gantt_timeline.df\n",
    "\n",
    "# gantt['quarter_color'] = gantt['start'].apply(lambda x: QUARTER_COLOR_CODE[(x.month-1)//3 + 1]).values\n",
    "# gantt\n"
   ]
  },
  {
   "cell_type": "code",
   "execution_count": 3,
   "metadata": {},
   "outputs": [],
   "source": [
    "# from constants import YEARLY_QUARTERS_START, YEARLY_QUARTERS_END, COLOR_PALETTE\n",
    "# import calendar\n",
    "\n",
    "# cp_iter = iter(COLOR_PALETTE) \n",
    "\n",
    "# # get quarter info\n",
    "# quarter_info, quarter_color_code, months_info = {}, {}, {}\n",
    "# for quarter in gantt['quarter'].unique():\n",
    "    \n",
    "#     quarter_color_code[quarter] = next(cp_iter)\n",
    "#     quarter_info[quarter] = {\n",
    "#         'start': YEARLY_QUARTERS_START[quarter],\n",
    "#         'end': YEARLY_QUARTERS_END[quarter],\n",
    "#         'color': quarter_color_code[quarter]\n",
    "#     }\n",
    "\n",
    "#     for month_start_end in get_months(YEARLY_QUARTERS_START[quarter], YEARLY_QUARTERS_END[quarter]):\n",
    "\n",
    "#         month_name = calendar.month_name[pd.to_datetime(month_start_end[0]).month]\n",
    "\n",
    "#         months_info[month_name] = {\n",
    "#             'start': month_start_end[0],\n",
    "#             'end': month_start_end[1],\n",
    "#             'color': quarter_color_code[quarter]\n",
    "#         }\n",
    "\n",
    "# months_info\n"
   ]
  },
  {
   "cell_type": "code",
   "execution_count": 4,
   "metadata": {},
   "outputs": [
    {
     "data": {
      "application/vnd.plotly.v1+json": {
       "config": {
        "plotlyServerURL": "https://plot.ly"
       },
       "data": [
        {
         "alignmentgroup": "True",
         "base": [
          "2024-05-01",
          "2024-05-01",
          "2024-05-01"
         ],
         "hovertemplate": "quarter_color=#4EBDDC<br>start=%{base}<br>end=%{x}<br>task=%{y}<extra></extra>",
         "legendgroup": "#4EBDDC",
         "marker": {
          "color": "#5ADBFF",
          "pattern": {
           "shape": ""
          }
         },
         "name": "#4EBDDC",
         "offsetgroup": "#4EBDDC",
         "orientation": "h",
         "showlegend": true,
         "textposition": "auto",
         "type": "bar",
         "width": 0.7,
         "x": [
          3888000000,
          5184000000,
          3888000000
         ],
         "xaxis": "x",
         "y": [
          "Task 1.1",
          "Task 1.2",
          "Task 1.3"
         ],
         "yaxis": "y"
        },
        {
         "alignmentgroup": "True",
         "base": [
          "2024-07-01"
         ],
         "hovertemplate": "quarter_color=#5D9BCF<br>start=%{base}<br>end=%{x}<br>task=%{y}<extra></extra>",
         "legendgroup": "#5D9BCF",
         "marker": {
          "color": "#4EBDDC",
          "pattern": {
           "shape": ""
          }
         },
         "name": "#5D9BCF",
         "offsetgroup": "#5D9BCF",
         "orientation": "h",
         "showlegend": true,
         "textposition": "auto",
         "type": "bar",
         "width": 0.7,
         "x": [
          1209600000
         ],
         "xaxis": "x",
         "y": [
          "Task 1.4"
         ],
         "yaxis": "y"
        }
       ],
       "layout": {
        "annotations": [
         {
          "font": {
           "color": "#0A4074",
           "size": 14
          },
          "showarrow": false,
          "text": "April",
          "x": "2024-04-15",
          "y": 1.125,
          "yref": "paper"
         },
         {
          "font": {
           "color": "#0A4074",
           "size": 14
          },
          "showarrow": false,
          "text": "May",
          "x": "2024-05-16",
          "y": 1.125,
          "yref": "paper"
         },
         {
          "font": {
           "color": "#0A4074",
           "size": 14
          },
          "showarrow": false,
          "text": "June",
          "x": "2024-06-15",
          "y": 1.125,
          "yref": "paper"
         },
         {
          "font": {
           "color": "#0A4074",
           "size": 14
          },
          "showarrow": false,
          "text": "July",
          "x": "2024-07-16",
          "y": 1.125,
          "yref": "paper"
         },
         {
          "font": {
           "color": "#0A4074",
           "size": 14
          },
          "showarrow": false,
          "text": "August",
          "x": "2024-08-16",
          "y": 1.125,
          "yref": "paper"
         },
         {
          "font": {
           "color": "#0A4074",
           "size": 14
          },
          "showarrow": false,
          "text": "September",
          "x": "2024-09-15",
          "y": 1.125,
          "yref": "paper"
         }
        ],
        "barmode": "overlay",
        "coloraxis": {
         "showscale": false
        },
        "legend": {
         "title": {
          "text": "quarter_color"
         },
         "tracegroupgap": 0
        },
        "margin": {
         "b": 100,
         "l": 50,
         "pad": 4,
         "r": 50,
         "t": 100
        },
        "plot_bgcolor": "white",
        "shapes": [
         {
          "fillcolor": "rgba(90, 219, 255, 1)",
          "line": {
           "color": "rgba(90, 219, 255, 1)"
          },
          "opacity": 1,
          "type": "rect",
          "x0": "2024-04-01",
          "x1": "2024-06-30",
          "xref": "x",
          "y0": 1.2,
          "y1": 1.3499999999999999,
          "yref": "paper"
         },
         {
          "fillcolor": "rgba(78, 189, 220, 1)",
          "line": {
           "color": "rgba(78, 189, 220, 1)"
          },
          "opacity": 1,
          "type": "rect",
          "x0": "2024-07-01",
          "x1": "2024-09-30",
          "xref": "x",
          "y0": 1.2,
          "y1": 1.3499999999999999,
          "yref": "paper"
         },
         {
          "fillcolor": "rgba(244, 244, 244, 1)",
          "line": {
           "color": "rgba(244, 244, 244, 1)"
          },
          "opacity": 1,
          "type": "rect",
          "x0": "2024-04-01",
          "x1": "2024-04-30",
          "xref": "x",
          "y0": 1,
          "y1": 1.15,
          "yref": "paper"
         },
         {
          "fillcolor": "rgba(244, 244, 244, 1)",
          "line": {
           "color": "rgba(244, 244, 244, 1)"
          },
          "opacity": 1,
          "type": "rect",
          "x0": "2024-05-01",
          "x1": "2024-05-31",
          "xref": "x",
          "y0": 1,
          "y1": 1.15,
          "yref": "paper"
         },
         {
          "fillcolor": "rgba(244, 244, 244, 1)",
          "line": {
           "color": "rgba(244, 244, 244, 1)"
          },
          "opacity": 1,
          "type": "rect",
          "x0": "2024-06-01",
          "x1": "2024-06-30",
          "xref": "x",
          "y0": 1,
          "y1": 1.15,
          "yref": "paper"
         },
         {
          "fillcolor": "rgba(244, 244, 244, 1)",
          "line": {
           "color": "rgba(244, 244, 244, 1)"
          },
          "opacity": 1,
          "type": "rect",
          "x0": "2024-07-01",
          "x1": "2024-07-31",
          "xref": "x",
          "y0": 1,
          "y1": 1.15,
          "yref": "paper"
         },
         {
          "fillcolor": "rgba(244, 244, 244, 1)",
          "line": {
           "color": "rgba(244, 244, 244, 1)"
          },
          "opacity": 1,
          "type": "rect",
          "x0": "2024-08-01",
          "x1": "2024-08-31",
          "xref": "x",
          "y0": 1,
          "y1": 1.15,
          "yref": "paper"
         },
         {
          "fillcolor": "rgba(244, 244, 244, 1)",
          "line": {
           "color": "rgba(244, 244, 244, 1)"
          },
          "opacity": 1,
          "type": "rect",
          "x0": "2024-09-01",
          "x1": "2024-09-30",
          "xref": "x",
          "y0": 1,
          "y1": 1.15,
          "yref": "paper"
         }
        ],
        "showlegend": false,
        "template": {
         "data": {
          "bar": [
           {
            "error_x": {
             "color": "#2a3f5f"
            },
            "error_y": {
             "color": "#2a3f5f"
            },
            "marker": {
             "line": {
              "color": "#E5ECF6",
              "width": 0.5
             },
             "pattern": {
              "fillmode": "overlay",
              "size": 10,
              "solidity": 0.2
             }
            },
            "type": "bar"
           }
          ],
          "barpolar": [
           {
            "marker": {
             "line": {
              "color": "#E5ECF6",
              "width": 0.5
             },
             "pattern": {
              "fillmode": "overlay",
              "size": 10,
              "solidity": 0.2
             }
            },
            "type": "barpolar"
           }
          ],
          "carpet": [
           {
            "aaxis": {
             "endlinecolor": "#2a3f5f",
             "gridcolor": "white",
             "linecolor": "white",
             "minorgridcolor": "white",
             "startlinecolor": "#2a3f5f"
            },
            "baxis": {
             "endlinecolor": "#2a3f5f",
             "gridcolor": "white",
             "linecolor": "white",
             "minorgridcolor": "white",
             "startlinecolor": "#2a3f5f"
            },
            "type": "carpet"
           }
          ],
          "choropleth": [
           {
            "colorbar": {
             "outlinewidth": 0,
             "ticks": ""
            },
            "type": "choropleth"
           }
          ],
          "contour": [
           {
            "colorbar": {
             "outlinewidth": 0,
             "ticks": ""
            },
            "colorscale": [
             [
              0,
              "#0d0887"
             ],
             [
              0.1111111111111111,
              "#46039f"
             ],
             [
              0.2222222222222222,
              "#7201a8"
             ],
             [
              0.3333333333333333,
              "#9c179e"
             ],
             [
              0.4444444444444444,
              "#bd3786"
             ],
             [
              0.5555555555555556,
              "#d8576b"
             ],
             [
              0.6666666666666666,
              "#ed7953"
             ],
             [
              0.7777777777777778,
              "#fb9f3a"
             ],
             [
              0.8888888888888888,
              "#fdca26"
             ],
             [
              1,
              "#f0f921"
             ]
            ],
            "type": "contour"
           }
          ],
          "contourcarpet": [
           {
            "colorbar": {
             "outlinewidth": 0,
             "ticks": ""
            },
            "type": "contourcarpet"
           }
          ],
          "heatmap": [
           {
            "colorbar": {
             "outlinewidth": 0,
             "ticks": ""
            },
            "colorscale": [
             [
              0,
              "#0d0887"
             ],
             [
              0.1111111111111111,
              "#46039f"
             ],
             [
              0.2222222222222222,
              "#7201a8"
             ],
             [
              0.3333333333333333,
              "#9c179e"
             ],
             [
              0.4444444444444444,
              "#bd3786"
             ],
             [
              0.5555555555555556,
              "#d8576b"
             ],
             [
              0.6666666666666666,
              "#ed7953"
             ],
             [
              0.7777777777777778,
              "#fb9f3a"
             ],
             [
              0.8888888888888888,
              "#fdca26"
             ],
             [
              1,
              "#f0f921"
             ]
            ],
            "type": "heatmap"
           }
          ],
          "heatmapgl": [
           {
            "colorbar": {
             "outlinewidth": 0,
             "ticks": ""
            },
            "colorscale": [
             [
              0,
              "#0d0887"
             ],
             [
              0.1111111111111111,
              "#46039f"
             ],
             [
              0.2222222222222222,
              "#7201a8"
             ],
             [
              0.3333333333333333,
              "#9c179e"
             ],
             [
              0.4444444444444444,
              "#bd3786"
             ],
             [
              0.5555555555555556,
              "#d8576b"
             ],
             [
              0.6666666666666666,
              "#ed7953"
             ],
             [
              0.7777777777777778,
              "#fb9f3a"
             ],
             [
              0.8888888888888888,
              "#fdca26"
             ],
             [
              1,
              "#f0f921"
             ]
            ],
            "type": "heatmapgl"
           }
          ],
          "histogram": [
           {
            "marker": {
             "pattern": {
              "fillmode": "overlay",
              "size": 10,
              "solidity": 0.2
             }
            },
            "type": "histogram"
           }
          ],
          "histogram2d": [
           {
            "colorbar": {
             "outlinewidth": 0,
             "ticks": ""
            },
            "colorscale": [
             [
              0,
              "#0d0887"
             ],
             [
              0.1111111111111111,
              "#46039f"
             ],
             [
              0.2222222222222222,
              "#7201a8"
             ],
             [
              0.3333333333333333,
              "#9c179e"
             ],
             [
              0.4444444444444444,
              "#bd3786"
             ],
             [
              0.5555555555555556,
              "#d8576b"
             ],
             [
              0.6666666666666666,
              "#ed7953"
             ],
             [
              0.7777777777777778,
              "#fb9f3a"
             ],
             [
              0.8888888888888888,
              "#fdca26"
             ],
             [
              1,
              "#f0f921"
             ]
            ],
            "type": "histogram2d"
           }
          ],
          "histogram2dcontour": [
           {
            "colorbar": {
             "outlinewidth": 0,
             "ticks": ""
            },
            "colorscale": [
             [
              0,
              "#0d0887"
             ],
             [
              0.1111111111111111,
              "#46039f"
             ],
             [
              0.2222222222222222,
              "#7201a8"
             ],
             [
              0.3333333333333333,
              "#9c179e"
             ],
             [
              0.4444444444444444,
              "#bd3786"
             ],
             [
              0.5555555555555556,
              "#d8576b"
             ],
             [
              0.6666666666666666,
              "#ed7953"
             ],
             [
              0.7777777777777778,
              "#fb9f3a"
             ],
             [
              0.8888888888888888,
              "#fdca26"
             ],
             [
              1,
              "#f0f921"
             ]
            ],
            "type": "histogram2dcontour"
           }
          ],
          "mesh3d": [
           {
            "colorbar": {
             "outlinewidth": 0,
             "ticks": ""
            },
            "type": "mesh3d"
           }
          ],
          "parcoords": [
           {
            "line": {
             "colorbar": {
              "outlinewidth": 0,
              "ticks": ""
             }
            },
            "type": "parcoords"
           }
          ],
          "pie": [
           {
            "automargin": true,
            "type": "pie"
           }
          ],
          "scatter": [
           {
            "fillpattern": {
             "fillmode": "overlay",
             "size": 10,
             "solidity": 0.2
            },
            "type": "scatter"
           }
          ],
          "scatter3d": [
           {
            "line": {
             "colorbar": {
              "outlinewidth": 0,
              "ticks": ""
             }
            },
            "marker": {
             "colorbar": {
              "outlinewidth": 0,
              "ticks": ""
             }
            },
            "type": "scatter3d"
           }
          ],
          "scattercarpet": [
           {
            "marker": {
             "colorbar": {
              "outlinewidth": 0,
              "ticks": ""
             }
            },
            "type": "scattercarpet"
           }
          ],
          "scattergeo": [
           {
            "marker": {
             "colorbar": {
              "outlinewidth": 0,
              "ticks": ""
             }
            },
            "type": "scattergeo"
           }
          ],
          "scattergl": [
           {
            "marker": {
             "colorbar": {
              "outlinewidth": 0,
              "ticks": ""
             }
            },
            "type": "scattergl"
           }
          ],
          "scattermapbox": [
           {
            "marker": {
             "colorbar": {
              "outlinewidth": 0,
              "ticks": ""
             }
            },
            "type": "scattermapbox"
           }
          ],
          "scatterpolar": [
           {
            "marker": {
             "colorbar": {
              "outlinewidth": 0,
              "ticks": ""
             }
            },
            "type": "scatterpolar"
           }
          ],
          "scatterpolargl": [
           {
            "marker": {
             "colorbar": {
              "outlinewidth": 0,
              "ticks": ""
             }
            },
            "type": "scatterpolargl"
           }
          ],
          "scatterternary": [
           {
            "marker": {
             "colorbar": {
              "outlinewidth": 0,
              "ticks": ""
             }
            },
            "type": "scatterternary"
           }
          ],
          "surface": [
           {
            "colorbar": {
             "outlinewidth": 0,
             "ticks": ""
            },
            "colorscale": [
             [
              0,
              "#0d0887"
             ],
             [
              0.1111111111111111,
              "#46039f"
             ],
             [
              0.2222222222222222,
              "#7201a8"
             ],
             [
              0.3333333333333333,
              "#9c179e"
             ],
             [
              0.4444444444444444,
              "#bd3786"
             ],
             [
              0.5555555555555556,
              "#d8576b"
             ],
             [
              0.6666666666666666,
              "#ed7953"
             ],
             [
              0.7777777777777778,
              "#fb9f3a"
             ],
             [
              0.8888888888888888,
              "#fdca26"
             ],
             [
              1,
              "#f0f921"
             ]
            ],
            "type": "surface"
           }
          ],
          "table": [
           {
            "cells": {
             "fill": {
              "color": "#EBF0F8"
             },
             "line": {
              "color": "white"
             }
            },
            "header": {
             "fill": {
              "color": "#C8D4E3"
             },
             "line": {
              "color": "white"
             }
            },
            "type": "table"
           }
          ]
         },
         "layout": {
          "annotationdefaults": {
           "arrowcolor": "#2a3f5f",
           "arrowhead": 0,
           "arrowwidth": 1
          },
          "autotypenumbers": "strict",
          "coloraxis": {
           "colorbar": {
            "outlinewidth": 0,
            "ticks": ""
           }
          },
          "colorscale": {
           "diverging": [
            [
             0,
             "#8e0152"
            ],
            [
             0.1,
             "#c51b7d"
            ],
            [
             0.2,
             "#de77ae"
            ],
            [
             0.3,
             "#f1b6da"
            ],
            [
             0.4,
             "#fde0ef"
            ],
            [
             0.5,
             "#f7f7f7"
            ],
            [
             0.6,
             "#e6f5d0"
            ],
            [
             0.7,
             "#b8e186"
            ],
            [
             0.8,
             "#7fbc41"
            ],
            [
             0.9,
             "#4d9221"
            ],
            [
             1,
             "#276419"
            ]
           ],
           "sequential": [
            [
             0,
             "#0d0887"
            ],
            [
             0.1111111111111111,
             "#46039f"
            ],
            [
             0.2222222222222222,
             "#7201a8"
            ],
            [
             0.3333333333333333,
             "#9c179e"
            ],
            [
             0.4444444444444444,
             "#bd3786"
            ],
            [
             0.5555555555555556,
             "#d8576b"
            ],
            [
             0.6666666666666666,
             "#ed7953"
            ],
            [
             0.7777777777777778,
             "#fb9f3a"
            ],
            [
             0.8888888888888888,
             "#fdca26"
            ],
            [
             1,
             "#f0f921"
            ]
           ],
           "sequentialminus": [
            [
             0,
             "#0d0887"
            ],
            [
             0.1111111111111111,
             "#46039f"
            ],
            [
             0.2222222222222222,
             "#7201a8"
            ],
            [
             0.3333333333333333,
             "#9c179e"
            ],
            [
             0.4444444444444444,
             "#bd3786"
            ],
            [
             0.5555555555555556,
             "#d8576b"
            ],
            [
             0.6666666666666666,
             "#ed7953"
            ],
            [
             0.7777777777777778,
             "#fb9f3a"
            ],
            [
             0.8888888888888888,
             "#fdca26"
            ],
            [
             1,
             "#f0f921"
            ]
           ]
          },
          "colorway": [
           "#636efa",
           "#EF553B",
           "#00cc96",
           "#ab63fa",
           "#FFA15A",
           "#19d3f3",
           "#FF6692",
           "#B6E880",
           "#FF97FF",
           "#FECB52"
          ],
          "font": {
           "color": "#2a3f5f"
          },
          "geo": {
           "bgcolor": "white",
           "lakecolor": "white",
           "landcolor": "#E5ECF6",
           "showlakes": true,
           "showland": true,
           "subunitcolor": "white"
          },
          "hoverlabel": {
           "align": "left"
          },
          "hovermode": "closest",
          "mapbox": {
           "style": "light"
          },
          "paper_bgcolor": "white",
          "plot_bgcolor": "#E5ECF6",
          "polar": {
           "angularaxis": {
            "gridcolor": "white",
            "linecolor": "white",
            "ticks": ""
           },
           "bgcolor": "#E5ECF6",
           "radialaxis": {
            "gridcolor": "white",
            "linecolor": "white",
            "ticks": ""
           }
          },
          "scene": {
           "xaxis": {
            "backgroundcolor": "#E5ECF6",
            "gridcolor": "white",
            "gridwidth": 2,
            "linecolor": "white",
            "showbackground": true,
            "ticks": "",
            "zerolinecolor": "white"
           },
           "yaxis": {
            "backgroundcolor": "#E5ECF6",
            "gridcolor": "white",
            "gridwidth": 2,
            "linecolor": "white",
            "showbackground": true,
            "ticks": "",
            "zerolinecolor": "white"
           },
           "zaxis": {
            "backgroundcolor": "#E5ECF6",
            "gridcolor": "white",
            "gridwidth": 2,
            "linecolor": "white",
            "showbackground": true,
            "ticks": "",
            "zerolinecolor": "white"
           }
          },
          "shapedefaults": {
           "line": {
            "color": "#2a3f5f"
           }
          },
          "ternary": {
           "aaxis": {
            "gridcolor": "white",
            "linecolor": "white",
            "ticks": ""
           },
           "baxis": {
            "gridcolor": "white",
            "linecolor": "white",
            "ticks": ""
           },
           "bgcolor": "#E5ECF6",
           "caxis": {
            "gridcolor": "white",
            "linecolor": "white",
            "ticks": ""
           }
          },
          "title": {
           "x": 0.05
          },
          "xaxis": {
           "automargin": true,
           "gridcolor": "white",
           "linecolor": "white",
           "ticks": "",
           "title": {
            "standoff": 15
           },
           "zerolinecolor": "white",
           "zerolinewidth": 2
          },
          "yaxis": {
           "automargin": true,
           "gridcolor": "white",
           "linecolor": "white",
           "ticks": "",
           "title": {
            "standoff": 15
           },
           "zerolinecolor": "white",
           "zerolinewidth": 2
          }
         }
        },
        "xaxis": {
         "anchor": "y",
         "domain": [
          0,
          1
         ],
         "range": [
          "2024-05-01",
          "2024-07-15"
         ],
         "showticklabels": false,
         "type": "date",
         "visible": false
        },
        "yaxis": {
         "anchor": "x",
         "autorange": "reversed",
         "domain": [
          0,
          1
         ],
         "showticklabels": false,
         "title": {
          "text": "task"
         },
         "visible": false
        }
       }
      }
     },
     "metadata": {},
     "output_type": "display_data"
    }
   ],
   "source": [
    "fig = gantt_timeline.get_fig_timeline(quarters=True, months=True)\n",
    "fig.show()\n"
   ]
  },
  {
   "cell_type": "code",
   "execution_count": null,
   "metadata": {},
   "outputs": [],
   "source": []
  }
 ],
 "metadata": {
  "kernelspec": {
   "display_name": ".venv",
   "language": "python",
   "name": "python3"
  },
  "language_info": {
   "codemirror_mode": {
    "name": "ipython",
    "version": 3
   },
   "file_extension": ".py",
   "mimetype": "text/x-python",
   "name": "python",
   "nbconvert_exporter": "python",
   "pygments_lexer": "ipython3",
   "version": "3.11.5"
  }
 },
 "nbformat": 4,
 "nbformat_minor": 2
}
